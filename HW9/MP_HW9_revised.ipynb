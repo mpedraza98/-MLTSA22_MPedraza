{
  "nbformat": 4,
  "nbformat_minor": 0,
  "metadata": {
    "colab": {
      "name": "MP_HW9_revised",
      "provenance": [],
      "collapsed_sections": [],
      "include_colab_link": true
    },
    "kernelspec": {
      "name": "python3",
      "display_name": "Python 3"
    },
    "language_info": {
      "name": "python"
    }
  },
  "cells": [
    {
      "cell_type": "markdown",
      "metadata": {
        "id": "view-in-github",
        "colab_type": "text"
      },
      "source": [
        "<a href=\"https://colab.research.google.com/github/mpedraza98/MLTSA22_MPedraza/blob/main/HW9/MP_HW9_revised.ipynb\" target=\"_parent\"><img src=\"https://colab.research.google.com/assets/colab-badge.svg\" alt=\"Open In Colab\"/></a>"
      ]
    },
    {
      "cell_type": "code",
      "execution_count": null,
      "metadata": {
        "colab": {
          "base_uri": "https://localhost:8080/"
        },
        "id": "QWc8g4pDdYNM",
        "outputId": "61c3ef0b-dffd-43bd-c773-6e9f5771c8ab"
      },
      "outputs": [
        {
          "output_type": "stream",
          "name": "stdout",
          "text": [
            "Mounted at /content/gdrive\n"
          ]
        }
      ],
      "source": [
        "from google.colab import drive\n",
        "drive.mount(\"/content/gdrive\", force_remount = True)"
      ]
    },
    {
      "cell_type": "code",
      "source": [
        "from keras.models import Sequential\n",
        "from keras.models import Model\n",
        "from keras.layers import Dense\n",
        "from keras import backend as K"
      ],
      "metadata": {
        "id": "g8jtVO5ndaEt"
      },
      "execution_count": null,
      "outputs": []
    },
    {
      "cell_type": "code",
      "source": [
        "import seaborn as sns"
      ],
      "metadata": {
        "id": "65_k5-R7DakN"
      },
      "execution_count": null,
      "outputs": []
    },
    {
      "cell_type": "code",
      "source": [
        "from sklearn.ensemble import RandomForestClassifier\n",
        "from sklearn.ensemble import GradientBoostingClassifier\n",
        "from sklearn.metrics import confusion_matrix"
      ],
      "metadata": {
        "id": "D6yUwcQmPIuG"
      },
      "execution_count": null,
      "outputs": []
    },
    {
      "cell_type": "code",
      "source": [
        "from tensorflow import keras\n",
        "from keras import optimizers\n",
        "from keras.callbacks import EarlyStopping"
      ],
      "metadata": {
        "id": "sNp6UFFl4z7Z"
      },
      "execution_count": null,
      "outputs": []
    },
    {
      "cell_type": "code",
      "source": [
        "import pandas as pd\n",
        "import numpy as np\n",
        "import pylab as pl\n",
        "%pylab inline"
      ],
      "metadata": {
        "colab": {
          "base_uri": "https://localhost:8080/"
        },
        "id": "kvlt4tzSo9Xn",
        "outputId": "7c76cdcb-7c05-413f-fe36-74e130cd1e9d"
      },
      "execution_count": null,
      "outputs": [
        {
          "output_type": "stream",
          "name": "stdout",
          "text": [
            "Populating the interactive namespace from numpy and matplotlib\n"
          ]
        }
      ]
    },
    {
      "cell_type": "code",
      "source": [
        "from sklearn.model_selection import train_test_split"
      ],
      "metadata": {
        "id": "3CPuezXLs4nt"
      },
      "execution_count": null,
      "outputs": []
    },
    {
      "cell_type": "code",
      "source": [
        "!ls"
      ],
      "metadata": {
        "colab": {
          "base_uri": "https://localhost:8080/"
        },
        "id": "rdzU3hNdpBoI",
        "outputId": "25035614-f49f-4b08-bcf2-2329b5d72045"
      },
      "execution_count": null,
      "outputs": [
        {
          "output_type": "stream",
          "name": "stdout",
          "text": [
            "gdrive\tsample_data\n"
          ]
        }
      ]
    },
    {
      "cell_type": "code",
      "source": [
        "cd /content/gdrive/MyDrive/MLTSA22"
      ],
      "metadata": {
        "id": "1eQ_BT1CpLps",
        "colab": {
          "base_uri": "https://localhost:8080/"
        },
        "outputId": "9e2cdf58-849c-4159-9d10-3cefa086f9ff"
      },
      "execution_count": null,
      "outputs": [
        {
          "output_type": "stream",
          "name": "stdout",
          "text": [
            "/content/gdrive/MyDrive/MLTSA22\n"
          ]
        }
      ]
    },
    {
      "cell_type": "code",
      "source": [
        "flux_ts = pd.read_csv('data.csv', header = None)"
      ],
      "metadata": {
        "id": "uz70h04Ypsti"
      },
      "execution_count": null,
      "outputs": []
    },
    {
      "cell_type": "code",
      "source": [
        "flux_ts.head()"
      ],
      "metadata": {
        "colab": {
          "base_uri": "https://localhost:8080/",
          "height": 386
        },
        "id": "2hcuwTzltek_",
        "outputId": "51c63198-fe53-4337-d161-fa466f669594"
      },
      "execution_count": null,
      "outputs": [
        {
          "output_type": "execute_result",
          "data": {
            "text/plain": [
              "         0             1         2         3             4             5   \\\n",
              "0  0.711029  7.929379e-01 -0.030939 -0.687774 -2.476340e-01  7.125589e-01   \n",
              "1 -0.576466  1.064696e-61  0.007776 -0.011913  5.443351e-40  9.182100e-09   \n",
              "2 -0.704222  2.080825e-01  0.754056 -0.005472  6.811945e-01  5.188407e-01   \n",
              "3 -0.070055 -3.952116e-02  0.287361 -0.230490 -2.880674e-02  7.774933e-02   \n",
              "4  0.365410 -2.116572e-02  0.586783 -0.411286  1.557213e-03  1.448403e-01   \n",
              "\n",
              "         6              7         8             9   ...             90  \\\n",
              "0  0.874526   1.846553e-01 -0.267378 -1.863665e-01  ...  -3.492236e-11   \n",
              "1 -0.308950  1.847434e-152 -0.000893 -6.692231e-09  ...   0.000000e+00   \n",
              "2 -0.390501  -1.598396e-01 -0.388993 -5.805594e-01  ...   1.413223e-12   \n",
              "3 -0.808792   7.953404e-04  0.109165 -2.645501e-03  ... -1.629197e-115   \n",
              "4 -0.818455   3.059596e-04  0.602409 -1.526490e-02  ...  4.646419e-126   \n",
              "\n",
              "              91             92             93             94            95  \\\n",
              "0  -5.634907e-13   3.316947e-15   1.999942e-16   2.004991e-18  1.374632e-21   \n",
              "1   0.000000e+00   0.000000e+00   0.000000e+00   0.000000e+00  0.000000e+00   \n",
              "2   8.491510e-17   6.414484e-23  -8.616802e-27  -1.616677e-32 -3.888634e-39   \n",
              "3  1.570500e-155 -1.569295e-201  1.625452e-253 -1.745204e-311  0.000000e+00   \n",
              "4 -1.382347e-169  1.144647e-219 -2.685664e-276   0.000000e+00  0.000000e+00   \n",
              "\n",
              "             96            97            98            99  \n",
              "0 -9.564481e-23 -5.843134e-25 -7.887651e-28  3.663458e-30  \n",
              "1  0.000000e+00  0.000000e+00  0.000000e+00  0.000000e+00  \n",
              "2 -4.606079e-47  4.343212e-54  3.312239e-62  3.170011e-71  \n",
              "3  0.000000e+00  0.000000e+00  0.000000e+00  0.000000e+00  \n",
              "4  0.000000e+00  0.000000e+00  0.000000e+00  0.000000e+00  \n",
              "\n",
              "[5 rows x 100 columns]"
            ],
            "text/html": [
              "\n",
              "  <div id=\"df-bf9cad0d-31dc-48e3-95c5-effaa64a6e60\">\n",
              "    <div class=\"colab-df-container\">\n",
              "      <div>\n",
              "<style scoped>\n",
              "    .dataframe tbody tr th:only-of-type {\n",
              "        vertical-align: middle;\n",
              "    }\n",
              "\n",
              "    .dataframe tbody tr th {\n",
              "        vertical-align: top;\n",
              "    }\n",
              "\n",
              "    .dataframe thead th {\n",
              "        text-align: right;\n",
              "    }\n",
              "</style>\n",
              "<table border=\"1\" class=\"dataframe\">\n",
              "  <thead>\n",
              "    <tr style=\"text-align: right;\">\n",
              "      <th></th>\n",
              "      <th>0</th>\n",
              "      <th>1</th>\n",
              "      <th>2</th>\n",
              "      <th>3</th>\n",
              "      <th>4</th>\n",
              "      <th>5</th>\n",
              "      <th>6</th>\n",
              "      <th>7</th>\n",
              "      <th>8</th>\n",
              "      <th>9</th>\n",
              "      <th>...</th>\n",
              "      <th>90</th>\n",
              "      <th>91</th>\n",
              "      <th>92</th>\n",
              "      <th>93</th>\n",
              "      <th>94</th>\n",
              "      <th>95</th>\n",
              "      <th>96</th>\n",
              "      <th>97</th>\n",
              "      <th>98</th>\n",
              "      <th>99</th>\n",
              "    </tr>\n",
              "  </thead>\n",
              "  <tbody>\n",
              "    <tr>\n",
              "      <th>0</th>\n",
              "      <td>0.711029</td>\n",
              "      <td>7.929379e-01</td>\n",
              "      <td>-0.030939</td>\n",
              "      <td>-0.687774</td>\n",
              "      <td>-2.476340e-01</td>\n",
              "      <td>7.125589e-01</td>\n",
              "      <td>0.874526</td>\n",
              "      <td>1.846553e-01</td>\n",
              "      <td>-0.267378</td>\n",
              "      <td>-1.863665e-01</td>\n",
              "      <td>...</td>\n",
              "      <td>-3.492236e-11</td>\n",
              "      <td>-5.634907e-13</td>\n",
              "      <td>3.316947e-15</td>\n",
              "      <td>1.999942e-16</td>\n",
              "      <td>2.004991e-18</td>\n",
              "      <td>1.374632e-21</td>\n",
              "      <td>-9.564481e-23</td>\n",
              "      <td>-5.843134e-25</td>\n",
              "      <td>-7.887651e-28</td>\n",
              "      <td>3.663458e-30</td>\n",
              "    </tr>\n",
              "    <tr>\n",
              "      <th>1</th>\n",
              "      <td>-0.576466</td>\n",
              "      <td>1.064696e-61</td>\n",
              "      <td>0.007776</td>\n",
              "      <td>-0.011913</td>\n",
              "      <td>5.443351e-40</td>\n",
              "      <td>9.182100e-09</td>\n",
              "      <td>-0.308950</td>\n",
              "      <td>1.847434e-152</td>\n",
              "      <td>-0.000893</td>\n",
              "      <td>-6.692231e-09</td>\n",
              "      <td>...</td>\n",
              "      <td>0.000000e+00</td>\n",
              "      <td>0.000000e+00</td>\n",
              "      <td>0.000000e+00</td>\n",
              "      <td>0.000000e+00</td>\n",
              "      <td>0.000000e+00</td>\n",
              "      <td>0.000000e+00</td>\n",
              "      <td>0.000000e+00</td>\n",
              "      <td>0.000000e+00</td>\n",
              "      <td>0.000000e+00</td>\n",
              "      <td>0.000000e+00</td>\n",
              "    </tr>\n",
              "    <tr>\n",
              "      <th>2</th>\n",
              "      <td>-0.704222</td>\n",
              "      <td>2.080825e-01</td>\n",
              "      <td>0.754056</td>\n",
              "      <td>-0.005472</td>\n",
              "      <td>6.811945e-01</td>\n",
              "      <td>5.188407e-01</td>\n",
              "      <td>-0.390501</td>\n",
              "      <td>-1.598396e-01</td>\n",
              "      <td>-0.388993</td>\n",
              "      <td>-5.805594e-01</td>\n",
              "      <td>...</td>\n",
              "      <td>1.413223e-12</td>\n",
              "      <td>8.491510e-17</td>\n",
              "      <td>6.414484e-23</td>\n",
              "      <td>-8.616802e-27</td>\n",
              "      <td>-1.616677e-32</td>\n",
              "      <td>-3.888634e-39</td>\n",
              "      <td>-4.606079e-47</td>\n",
              "      <td>4.343212e-54</td>\n",
              "      <td>3.312239e-62</td>\n",
              "      <td>3.170011e-71</td>\n",
              "    </tr>\n",
              "    <tr>\n",
              "      <th>3</th>\n",
              "      <td>-0.070055</td>\n",
              "      <td>-3.952116e-02</td>\n",
              "      <td>0.287361</td>\n",
              "      <td>-0.230490</td>\n",
              "      <td>-2.880674e-02</td>\n",
              "      <td>7.774933e-02</td>\n",
              "      <td>-0.808792</td>\n",
              "      <td>7.953404e-04</td>\n",
              "      <td>0.109165</td>\n",
              "      <td>-2.645501e-03</td>\n",
              "      <td>...</td>\n",
              "      <td>-1.629197e-115</td>\n",
              "      <td>1.570500e-155</td>\n",
              "      <td>-1.569295e-201</td>\n",
              "      <td>1.625452e-253</td>\n",
              "      <td>-1.745204e-311</td>\n",
              "      <td>0.000000e+00</td>\n",
              "      <td>0.000000e+00</td>\n",
              "      <td>0.000000e+00</td>\n",
              "      <td>0.000000e+00</td>\n",
              "      <td>0.000000e+00</td>\n",
              "    </tr>\n",
              "    <tr>\n",
              "      <th>4</th>\n",
              "      <td>0.365410</td>\n",
              "      <td>-2.116572e-02</td>\n",
              "      <td>0.586783</td>\n",
              "      <td>-0.411286</td>\n",
              "      <td>1.557213e-03</td>\n",
              "      <td>1.448403e-01</td>\n",
              "      <td>-0.818455</td>\n",
              "      <td>3.059596e-04</td>\n",
              "      <td>0.602409</td>\n",
              "      <td>-1.526490e-02</td>\n",
              "      <td>...</td>\n",
              "      <td>4.646419e-126</td>\n",
              "      <td>-1.382347e-169</td>\n",
              "      <td>1.144647e-219</td>\n",
              "      <td>-2.685664e-276</td>\n",
              "      <td>0.000000e+00</td>\n",
              "      <td>0.000000e+00</td>\n",
              "      <td>0.000000e+00</td>\n",
              "      <td>0.000000e+00</td>\n",
              "      <td>0.000000e+00</td>\n",
              "      <td>0.000000e+00</td>\n",
              "    </tr>\n",
              "  </tbody>\n",
              "</table>\n",
              "<p>5 rows × 100 columns</p>\n",
              "</div>\n",
              "      <button class=\"colab-df-convert\" onclick=\"convertToInteractive('df-bf9cad0d-31dc-48e3-95c5-effaa64a6e60')\"\n",
              "              title=\"Convert this dataframe to an interactive table.\"\n",
              "              style=\"display:none;\">\n",
              "        \n",
              "  <svg xmlns=\"http://www.w3.org/2000/svg\" height=\"24px\"viewBox=\"0 0 24 24\"\n",
              "       width=\"24px\">\n",
              "    <path d=\"M0 0h24v24H0V0z\" fill=\"none\"/>\n",
              "    <path d=\"M18.56 5.44l.94 2.06.94-2.06 2.06-.94-2.06-.94-.94-2.06-.94 2.06-2.06.94zm-11 1L8.5 8.5l.94-2.06 2.06-.94-2.06-.94L8.5 2.5l-.94 2.06-2.06.94zm10 10l.94 2.06.94-2.06 2.06-.94-2.06-.94-.94-2.06-.94 2.06-2.06.94z\"/><path d=\"M17.41 7.96l-1.37-1.37c-.4-.4-.92-.59-1.43-.59-.52 0-1.04.2-1.43.59L10.3 9.45l-7.72 7.72c-.78.78-.78 2.05 0 2.83L4 21.41c.39.39.9.59 1.41.59.51 0 1.02-.2 1.41-.59l7.78-7.78 2.81-2.81c.8-.78.8-2.07 0-2.86zM5.41 20L4 18.59l7.72-7.72 1.47 1.35L5.41 20z\"/>\n",
              "  </svg>\n",
              "      </button>\n",
              "      \n",
              "  <style>\n",
              "    .colab-df-container {\n",
              "      display:flex;\n",
              "      flex-wrap:wrap;\n",
              "      gap: 12px;\n",
              "    }\n",
              "\n",
              "    .colab-df-convert {\n",
              "      background-color: #E8F0FE;\n",
              "      border: none;\n",
              "      border-radius: 50%;\n",
              "      cursor: pointer;\n",
              "      display: none;\n",
              "      fill: #1967D2;\n",
              "      height: 32px;\n",
              "      padding: 0 0 0 0;\n",
              "      width: 32px;\n",
              "    }\n",
              "\n",
              "    .colab-df-convert:hover {\n",
              "      background-color: #E2EBFA;\n",
              "      box-shadow: 0px 1px 2px rgba(60, 64, 67, 0.3), 0px 1px 3px 1px rgba(60, 64, 67, 0.15);\n",
              "      fill: #174EA6;\n",
              "    }\n",
              "\n",
              "    [theme=dark] .colab-df-convert {\n",
              "      background-color: #3B4455;\n",
              "      fill: #D2E3FC;\n",
              "    }\n",
              "\n",
              "    [theme=dark] .colab-df-convert:hover {\n",
              "      background-color: #434B5C;\n",
              "      box-shadow: 0px 1px 3px 1px rgba(0, 0, 0, 0.15);\n",
              "      filter: drop-shadow(0px 1px 2px rgba(0, 0, 0, 0.3));\n",
              "      fill: #FFFFFF;\n",
              "    }\n",
              "  </style>\n",
              "\n",
              "      <script>\n",
              "        const buttonEl =\n",
              "          document.querySelector('#df-bf9cad0d-31dc-48e3-95c5-effaa64a6e60 button.colab-df-convert');\n",
              "        buttonEl.style.display =\n",
              "          google.colab.kernel.accessAllowed ? 'block' : 'none';\n",
              "\n",
              "        async function convertToInteractive(key) {\n",
              "          const element = document.querySelector('#df-bf9cad0d-31dc-48e3-95c5-effaa64a6e60');\n",
              "          const dataTable =\n",
              "            await google.colab.kernel.invokeFunction('convertToInteractive',\n",
              "                                                     [key], {});\n",
              "          if (!dataTable) return;\n",
              "\n",
              "          const docLinkHtml = 'Like what you see? Visit the ' +\n",
              "            '<a target=\"_blank\" href=https://colab.research.google.com/notebooks/data_table.ipynb>data table notebook</a>'\n",
              "            + ' to learn more about interactive tables.';\n",
              "          element.innerHTML = '';\n",
              "          dataTable['output_type'] = 'display_data';\n",
              "          await google.colab.output.renderOutput(dataTable, element);\n",
              "          const docLink = document.createElement('div');\n",
              "          docLink.innerHTML = docLinkHtml;\n",
              "          element.appendChild(docLink);\n",
              "        }\n",
              "      </script>\n",
              "    </div>\n",
              "  </div>\n",
              "  "
            ]
          },
          "metadata": {},
          "execution_count": 8
        }
      ]
    },
    {
      "cell_type": "code",
      "source": [
        "pl.plot(flux_ts.loc[2]);"
      ],
      "metadata": {
        "colab": {
          "base_uri": "https://localhost:8080/",
          "height": 282
        },
        "id": "jCJBaxjMtg2G",
        "outputId": "5106dfa2-f168-4a05-c0e6-e6691fd1541c"
      },
      "execution_count": null,
      "outputs": [
        {
          "output_type": "execute_result",
          "data": {
            "text/plain": [
              "[<matplotlib.lines.Line2D at 0x7f20b4893c10>]"
            ]
          },
          "metadata": {},
          "execution_count": 9
        },
        {
          "output_type": "display_data",
          "data": {
            "text/plain": [
              "<Figure size 432x288 with 1 Axes>"
            ],
            "image/png": "[encoded data removed]"
          },
          "metadata": {
            "needs_background": "light"
          }
        }
      ]
    },
    {
      "cell_type": "markdown",
      "source": [
        "**Fig 1.** Time series plot for a random object in the dataset. This plot only meant to verify the content of our data"
      ],
      "metadata": {
        "id": "9CvhCiTT-kEp"
      }
    },
    {
      "cell_type": "code",
      "source": [
        "# Splitting the data into training and test sets\n",
        "X_tr,  X_te = train_test_split(flux_ts, test_size=0.25)"
      ],
      "metadata": {
        "id": "8lSfEq0uyPpL"
      },
      "execution_count": null,
      "outputs": []
    },
    {
      "cell_type": "code",
      "source": [
        "X_tr.shape"
      ],
      "metadata": {
        "colab": {
          "base_uri": "https://localhost:8080/"
        },
        "id": "sFjQZKfd4Yga",
        "outputId": "5a7ab8c6-eac3-4bb0-e123-009d8b7055ff"
      },
      "execution_count": null,
      "outputs": [
        {
          "output_type": "execute_result",
          "data": {
            "text/plain": [
              "(35316, 100)"
            ]
          },
          "metadata": {},
          "execution_count": 11
        }
      ]
    },
    {
      "cell_type": "code",
      "source": [
        "# We will be using a callback to stop the iterations early if necessary and adam optimizer"
      ],
      "metadata": {
        "id": "Xs2Z0VNZ--Eq"
      },
      "execution_count": null,
      "outputs": []
    },
    {
      "cell_type": "code",
      "source": [
        "opt = keras.optimizers.Adam(learning_rate=0.0001)\n",
        "callback = EarlyStopping(monitor='val_loss', patience=5, min_delta=0.001)"
      ],
      "metadata": {
        "id": "SZeCAaSy45S_"
      },
      "execution_count": null,
      "outputs": []
    },
    {
      "cell_type": "code",
      "source": [
        "in_dim = X_tr.shape[1]\n",
        "out_dim = X_tr.shape[1]"
      ],
      "metadata": {
        "id": "tJdSrhy_a6QX"
      },
      "execution_count": null,
      "outputs": []
    },
    {
      "cell_type": "markdown",
      "source": [
        "We first tried using RELU as the activation function, however, since the flux values can fluctuate towards the negative, RELU fails to correctly predict this behavior. Hence, we will use tanh or leaky relu which can work with negative values as well"
      ],
      "metadata": {
        "id": "w_Ko9Rfkm-5w"
      }
    },
    {
      "cell_type": "code",
      "source": [
        "# The architecture used was 100 (input size) -> 256 -> 128 -> 64 -> 32 -> 64 -> 128 -> 256 -> (output size)\n",
        "model = Sequential()\n",
        "## encoder\n",
        "# input layer and the output size\n",
        "model.add(Dense(256, activation='tanh', input_dim = in_dim))\n",
        "model.add(Dense(128, activation='tanh'))\n",
        "model.add(Dense(64, activation='tanh'))\n",
        "model.add(Dense(32, activation='tanh', name='bottleneck_layer'))\n",
        "## deencoder\n",
        "#decompression layer, same size as in the encoder\n",
        "model.add(Dense(64, activation='tanh'))\n",
        "model.add(Dense(128, activation='tanh'))\n",
        "model.add(Dense(256, activation='tanh'))\n",
        "#output layer, same size as input\n",
        "model.add(Dense(out_dim, activation='tanh'))"
      ],
      "metadata": {
        "id": "S6NNAYnw49-J"
      },
      "execution_count": null,
      "outputs": []
    },
    {
      "cell_type": "code",
      "source": [
        "print(model.summary())"
      ],
      "metadata": {
        "colab": {
          "base_uri": "https://localhost:8080/"
        },
        "id": "XdUsj_pQbYm9",
        "outputId": "9f8a8574-0ade-4271-8178-c709c8c0b0d9"
      },
      "execution_count": null,
      "outputs": [
        {
          "output_type": "stream",
          "name": "stdout",
          "text": [
            "Model: \"sequential_6\"\n",
            "_________________________________________________________________\n",
            " Layer (type)                Output Shape              Param #   \n",
            "=================================================================\n",
            " dense_22 (Dense)            (None, 256)               25856     \n",
            "                                                                 \n",
            " dense_23 (Dense)            (None, 128)               32896     \n",
            "                                                                 \n",
            " dense_24 (Dense)            (None, 64)                8256      \n",
            "                                                                 \n",
            " bottleneck_layer (Dense)    (None, 32)                2080      \n",
            "                                                                 \n",
            " dense_25 (Dense)            (None, 64)                2112      \n",
            "                                                                 \n",
            " dense_26 (Dense)            (None, 128)               8320      \n",
            "                                                                 \n",
            " dense_27 (Dense)            (None, 256)               33024     \n",
            "                                                                 \n",
            " dense_28 (Dense)            (None, 100)               25700     \n",
            "                                                                 \n",
            "=================================================================\n",
            "Total params: 138,244\n",
            "Trainable params: 138,244\n",
            "Non-trainable params: 0\n",
            "_________________________________________________________________\n",
            "None\n"
          ]
        }
      ]
    },
    {
      "cell_type": "code",
      "source": [
        "model.compile(loss=\"mean_squared_error\", optimizer=opt)"
      ],
      "metadata": {
        "id": "QIj-ykAhbhNK"
      },
      "execution_count": null,
      "outputs": []
    },
    {
      "cell_type": "code",
      "source": [
        "history = model.fit(X_tr, X_tr, validation_data=(X_te, X_te),\n",
        "                               epochs=40, batch_size=100, verbose=1,\n",
        "                               callbacks=[callback])"
      ],
      "metadata": {
        "colab": {
          "base_uri": "https://localhost:8080/"
        },
        "id": "41T5vVM1brWp",
        "outputId": "90d0f5f9-7bc3-4fe3-86ba-73f578e988ff"
      },
      "execution_count": null,
      "outputs": [
        {
          "output_type": "stream",
          "name": "stdout",
          "text": [
            "Epoch 1/40\n",
            "354/354 [==============================] - 4s 8ms/step - loss: 0.1847 - val_loss: 0.1572\n",
            "Epoch 2/40\n",
            "354/354 [==============================] - 3s 7ms/step - loss: 0.1482 - val_loss: 0.1423\n",
            "Epoch 3/40\n",
            "354/354 [==============================] - 3s 8ms/step - loss: 0.1381 - val_loss: 0.1360\n",
            "Epoch 4/40\n",
            "354/354 [==============================] - 3s 7ms/step - loss: 0.1335 - val_loss: 0.1330\n",
            "Epoch 5/40\n",
            "354/354 [==============================] - 3s 7ms/step - loss: 0.1311 - val_loss: 0.1313\n",
            "Epoch 6/40\n",
            "354/354 [==============================] - 3s 8ms/step - loss: 0.1295 - val_loss: 0.1300\n",
            "Epoch 7/40\n",
            "354/354 [==============================] - 3s 8ms/step - loss: 0.1283 - val_loss: 0.1291\n",
            "Epoch 8/40\n",
            "354/354 [==============================] - 3s 8ms/step - loss: 0.1274 - val_loss: 0.1284\n",
            "Epoch 9/40\n",
            "354/354 [==============================] - 3s 8ms/step - loss: 0.1267 - val_loss: 0.1278\n",
            "Epoch 10/40\n",
            "354/354 [==============================] - 3s 8ms/step - loss: 0.1261 - val_loss: 0.1273\n",
            "Epoch 11/40\n",
            "354/354 [==============================] - 3s 8ms/step - loss: 0.1256 - val_loss: 0.1268\n",
            "Epoch 12/40\n",
            "354/354 [==============================] - 2s 7ms/step - loss: 0.1251 - val_loss: 0.1264\n",
            "Epoch 13/40\n",
            "354/354 [==============================] - 2s 7ms/step - loss: 0.1247 - val_loss: 0.1261\n",
            "Epoch 14/40\n",
            "354/354 [==============================] - 3s 7ms/step - loss: 0.1243 - val_loss: 0.1257\n",
            "Epoch 15/40\n",
            "354/354 [==============================] - 2s 7ms/step - loss: 0.1240 - val_loss: 0.1254\n",
            "Epoch 16/40\n",
            "354/354 [==============================] - 3s 7ms/step - loss: 0.1237 - val_loss: 0.1251\n",
            "Epoch 17/40\n",
            "354/354 [==============================] - 3s 7ms/step - loss: 0.1234 - val_loss: 0.1248\n",
            "Epoch 18/40\n",
            "354/354 [==============================] - 3s 7ms/step - loss: 0.1231 - val_loss: 0.1245\n",
            "Epoch 19/40\n",
            "354/354 [==============================] - 3s 7ms/step - loss: 0.1229 - val_loss: 0.1243\n",
            "Epoch 20/40\n",
            "354/354 [==============================] - 3s 8ms/step - loss: 0.1227 - val_loss: 0.1241\n",
            "Epoch 21/40\n",
            "354/354 [==============================] - 3s 7ms/step - loss: 0.1224 - val_loss: 0.1239\n",
            "Epoch 22/40\n",
            "354/354 [==============================] - 3s 7ms/step - loss: 0.1223 - val_loss: 0.1237\n",
            "Epoch 23/40\n",
            "354/354 [==============================] - 3s 8ms/step - loss: 0.1221 - val_loss: 0.1235\n",
            "Epoch 24/40\n",
            "354/354 [==============================] - 3s 7ms/step - loss: 0.1219 - val_loss: 0.1233\n",
            "Epoch 25/40\n",
            "354/354 [==============================] - 3s 8ms/step - loss: 0.1217 - val_loss: 0.1232\n",
            "Epoch 26/40\n",
            "354/354 [==============================] - 3s 8ms/step - loss: 0.1216 - val_loss: 0.1230\n",
            "Epoch 27/40\n",
            "354/354 [==============================] - 3s 8ms/step - loss: 0.1214 - val_loss: 0.1229\n"
          ]
        }
      ]
    },
    {
      "cell_type": "code",
      "source": [
        "fig = pl.figure(figsize = (10,6))\n",
        "pl.plot(np.array(history.history['loss']), label=\"training\")\n",
        "pl.plot(np.array(history.history['val_loss']), label=\"validation\")\n",
        "pl.ylabel('loss')\n",
        "pl.xlabel('iteration')\n",
        "pl.legend()"
      ],
      "metadata": {
        "colab": {
          "base_uri": "https://localhost:8080/",
          "height": 296
        },
        "id": "V8kgXvKWcV6D",
        "outputId": "8819227c-b821-47b1-f1f6-c1397bc5ddca"
      },
      "execution_count": null,
      "outputs": [
        {
          "output_type": "execute_result",
          "data": {
            "text/plain": [
              "<matplotlib.legend.Legend at 0x7f20a71572d0>"
            ]
          },
          "metadata": {},
          "execution_count": 108
        },
        {
          "output_type": "display_data",
          "data": {
            "text/plain": [
              "<Figure size 432x288 with 1 Axes>"
            ],
            "image/png": "[encoded data removed]"
          },
          "metadata": {
            "needs_background": "light"
          }
        }
      ]
    },
    {
      "cell_type": "markdown",
      "source": [
        "**Fig 2.** Learning curve for our autoencoder model. Since the validation curve is on top of the training curve this might indicate overfitting. It is worth noticing that the gap between curves is small, therefore we should explore further the overfitting hypotesis. \n",
        "\n",
        "In case that's true, we could possibly explore and adjust to the parameters of the callback function so that the model doesn't train for too long. "
      ],
      "metadata": {
        "id": "tQv1LbWi_8CI"
      }
    },
    {
      "cell_type": "code",
      "source": [
        "prediction = model.predict(X_te)"
      ],
      "metadata": {
        "id": "XsX-Oc5zeTuM"
      },
      "execution_count": null,
      "outputs": []
    },
    {
      "cell_type": "code",
      "source": [
        "# Original Timeseries\n",
        "pl.plot(X_te.iloc[20])"
      ],
      "metadata": {
        "colab": {
          "base_uri": "https://localhost:8080/",
          "height": 282
        },
        "id": "S6NVMQYkhPU2",
        "outputId": "aee464d1-30c6-46ff-aebc-eaea2d742062"
      },
      "execution_count": null,
      "outputs": [
        {
          "output_type": "execute_result",
          "data": {
            "text/plain": [
              "[<matplotlib.lines.Line2D at 0x7f20a7235c50>]"
            ]
          },
          "metadata": {},
          "execution_count": 110
        },
        {
          "output_type": "display_data",
          "data": {
            "text/plain": [
              "<Figure size 432x288 with 1 Axes>"
            ],
            "image/png": "[encoded data removed]"
          },
          "metadata": {
            "needs_background": "light"
          }
        }
      ]
    },
    {
      "cell_type": "markdown",
      "source": [
        "**Fig 3.1** Original timeseries plot for a random object from the test dataset."
      ],
      "metadata": {
        "id": "jqdZGzjfBK-S"
      }
    },
    {
      "cell_type": "code",
      "source": [
        "# Prediction\n",
        "pl.plot(prediction[20])"
      ],
      "metadata": {
        "colab": {
          "base_uri": "https://localhost:8080/",
          "height": 282
        },
        "id": "zDB9O6ldhYcP",
        "outputId": "4f19b542-3f98-4e72-af30-a28501a8bd9b"
      },
      "execution_count": null,
      "outputs": [
        {
          "output_type": "execute_result",
          "data": {
            "text/plain": [
              "[<matplotlib.lines.Line2D at 0x7f20a7aa1750>]"
            ]
          },
          "metadata": {},
          "execution_count": 111
        },
        {
          "output_type": "display_data",
          "data": {
            "text/plain": [
              "<Figure size 432x288 with 1 Axes>"
            ],
            "image/png": "[encoded data removed]"
          },
          "metadata": {
            "needs_background": "light"
          }
        }
      ]
    },
    {
      "cell_type": "markdown",
      "source": [
        "**Fig 3.2** Autoencoder prediction for the same timeseries as in Fig 3.1. As we can see, it reproduces moderately well the behaviour of the original data, however at the final part it adds some peaks that are not present initially, this might be understood since almost all the time series consist of three spatially separated chuncks of data, and for the present case, the original timeseries had no information at the end of it"
      ],
      "metadata": {
        "id": "Jn7NHvX-D3eI"
      }
    },
    {
      "cell_type": "markdown",
      "source": [
        "<font color=\"red\"> FBB ok</font>"
      ],
      "metadata": {
        "id": "67lDlaGzGa1r"
      }
    },
    {
      "cell_type": "markdown",
      "source": [
        "We will extract features from the bottleneck layer"
      ],
      "metadata": {
        "id": "o5mWPkG1iEvy"
      }
    },
    {
      "cell_type": "code",
      "source": [
        "# Inspired by this stackoverflow thread \n",
        "# https://stackoverflow.com/questions/50226919/extracting-features-from-the-bottleneck-layer-in-keras-autoencoder\n",
        "# bottleneck model\n",
        "bottleneck_output = model.get_layer('bottleneck_layer').output\n",
        "model_bottleneck = Model(inputs = model.input, outputs = bottleneck_output)"
      ],
      "metadata": {
        "id": "BPXu8UdtiRay"
      },
      "execution_count": null,
      "outputs": []
    },
    {
      "cell_type": "code",
      "source": [
        "# Predict the bottleneck model for the whole dataset\n",
        "bottleneck_predictions = model_bottleneck.predict(flux_ts)"
      ],
      "metadata": {
        "id": "GYEmg9c8WYMx"
      },
      "execution_count": null,
      "outputs": []
    },
    {
      "cell_type": "code",
      "source": [
        "bottleneck_predictions.shape"
      ],
      "metadata": {
        "colab": {
          "base_uri": "https://localhost:8080/"
        },
        "id": "SB_OgPFiXpRk",
        "outputId": "4e75dab3-63e6-455d-a48c-1dfee30b947a"
      },
      "execution_count": null,
      "outputs": [
        {
          "output_type": "execute_result",
          "data": {
            "text/plain": [
              "(47088, 32)"
            ]
          },
          "metadata": {},
          "execution_count": 117
        }
      ]
    },
    {
      "cell_type": "code",
      "source": [
        "pl.plot(bottleneck_predictions[0])"
      ],
      "metadata": {
        "colab": {
          "base_uri": "https://localhost:8080/",
          "height": 285
        },
        "id": "FYrDT6DGXsrE",
        "outputId": "60c48077-2b87-495f-e65a-fcf09dfdfc6e"
      },
      "execution_count": null,
      "outputs": [
        {
          "output_type": "execute_result",
          "data": {
            "text/plain": [
              "[<matplotlib.lines.Line2D at 0x7f20a7c2cbd0>]"
            ]
          },
          "metadata": {},
          "execution_count": 118
        },
        {
          "output_type": "display_data",
          "data": {
            "text/plain": [
              "<Figure size 432x288 with 1 Axes>"
            ],
            "image/png": "[encoded data removed]"
          },
          "metadata": {
            "needs_background": "light"
          }
        }
      ]
    },
    {
      "cell_type": "markdown",
      "source": [
        "**Fig 4** Visualization of the output from the bottleneck layer. It looks like it captures the possibly periodic behavior from the timeseries."
      ],
      "metadata": {
        "id": "eKrKeW5sFKIM"
      }
    },
    {
      "cell_type": "markdown",
      "source": [
        "<font color=\"red\"> FBB yeah this is not usually very insightful</font>"
      ],
      "metadata": {
        "id": "jBPFBRLXGc1i"
      }
    },
    {
      "cell_type": "code",
      "source": [
        "# Reshape the array to put the timeseries as columns for the classification\n",
        "bottleneck_predictions = bottleneck_predictions.reshape(7848, bottleneck_predictions.shape[1] * 6)"
      ],
      "metadata": {
        "id": "dl1_SiKjmm2b"
      },
      "execution_count": null,
      "outputs": []
    },
    {
      "cell_type": "code",
      "source": [
        "allfeatures = pd.read_csv('allfeatures.csv')\n",
        "target = pd.read_csv('labels.csv')"
      ],
      "metadata": {
        "id": "VrlZ6jWr1ZfV"
      },
      "execution_count": null,
      "outputs": []
    },
    {
      "cell_type": "code",
      "source": [
        "target.drop('Unnamed: 0', axis = 1, inplace = True)\n",
        "target.set_index('object_id', inplace = True)"
      ],
      "metadata": {
        "id": "CMgQn3wa3R0s"
      },
      "execution_count": null,
      "outputs": []
    },
    {
      "cell_type": "code",
      "source": [
        "target.head()"
      ],
      "metadata": {
        "colab": {
          "base_uri": "https://localhost:8080/",
          "height": 238
        },
        "id": "a0mADP4R3E2N",
        "outputId": "9d603393-14b9-4521-ef96-45ea758f5385"
      },
      "execution_count": null,
      "outputs": [
        {
          "output_type": "execute_result",
          "data": {
            "text/plain": [
              "           target\n",
              "object_id        \n",
              "615            92\n",
              "713            88\n",
              "730            42\n",
              "745            90\n",
              "1124           90"
            ],
            "text/html": [
              "\n",
              "  <div id=\"df-5a9b2653-9eea-4034-bbd5-228b67354fb2\">\n",
              "    <div class=\"colab-df-container\">\n",
              "      <div>\n",
              "<style scoped>\n",
              "    .dataframe tbody tr th:only-of-type {\n",
              "        vertical-align: middle;\n",
              "    }\n",
              "\n",
              "    .dataframe tbody tr th {\n",
              "        vertical-align: top;\n",
              "    }\n",
              "\n",
              "    .dataframe thead th {\n",
              "        text-align: right;\n",
              "    }\n",
              "</style>\n",
              "<table border=\"1\" class=\"dataframe\">\n",
              "  <thead>\n",
              "    <tr style=\"text-align: right;\">\n",
              "      <th></th>\n",
              "      <th>target</th>\n",
              "    </tr>\n",
              "    <tr>\n",
              "      <th>object_id</th>\n",
              "      <th></th>\n",
              "    </tr>\n",
              "  </thead>\n",
              "  <tbody>\n",
              "    <tr>\n",
              "      <th>615</th>\n",
              "      <td>92</td>\n",
              "    </tr>\n",
              "    <tr>\n",
              "      <th>713</th>\n",
              "      <td>88</td>\n",
              "    </tr>\n",
              "    <tr>\n",
              "      <th>730</th>\n",
              "      <td>42</td>\n",
              "    </tr>\n",
              "    <tr>\n",
              "      <th>745</th>\n",
              "      <td>90</td>\n",
              "    </tr>\n",
              "    <tr>\n",
              "      <th>1124</th>\n",
              "      <td>90</td>\n",
              "    </tr>\n",
              "  </tbody>\n",
              "</table>\n",
              "</div>\n",
              "      <button class=\"colab-df-convert\" onclick=\"convertToInteractive('df-5a9b2653-9eea-4034-bbd5-228b67354fb2')\"\n",
              "              title=\"Convert this dataframe to an interactive table.\"\n",
              "              style=\"display:none;\">\n",
              "        \n",
              "  <svg xmlns=\"http://www.w3.org/2000/svg\" height=\"24px\"viewBox=\"0 0 24 24\"\n",
              "       width=\"24px\">\n",
              "    <path d=\"M0 0h24v24H0V0z\" fill=\"none\"/>\n",
              "    <path d=\"M18.56 5.44l.94 2.06.94-2.06 2.06-.94-2.06-.94-.94-2.06-.94 2.06-2.06.94zm-11 1L8.5 8.5l.94-2.06 2.06-.94-2.06-.94L8.5 2.5l-.94 2.06-2.06.94zm10 10l.94 2.06.94-2.06 2.06-.94-2.06-.94-.94-2.06-.94 2.06-2.06.94z\"/><path d=\"M17.41 7.96l-1.37-1.37c-.4-.4-.92-.59-1.43-.59-.52 0-1.04.2-1.43.59L10.3 9.45l-7.72 7.72c-.78.78-.78 2.05 0 2.83L4 21.41c.39.39.9.59 1.41.59.51 0 1.02-.2 1.41-.59l7.78-7.78 2.81-2.81c.8-.78.8-2.07 0-2.86zM5.41 20L4 18.59l7.72-7.72 1.47 1.35L5.41 20z\"/>\n",
              "  </svg>\n",
              "      </button>\n",
              "      \n",
              "  <style>\n",
              "    .colab-df-container {\n",
              "      display:flex;\n",
              "      flex-wrap:wrap;\n",
              "      gap: 12px;\n",
              "    }\n",
              "\n",
              "    .colab-df-convert {\n",
              "      background-color: #E8F0FE;\n",
              "      border: none;\n",
              "      border-radius: 50%;\n",
              "      cursor: pointer;\n",
              "      display: none;\n",
              "      fill: #1967D2;\n",
              "      height: 32px;\n",
              "      padding: 0 0 0 0;\n",
              "      width: 32px;\n",
              "    }\n",
              "\n",
              "    .colab-df-convert:hover {\n",
              "      background-color: #E2EBFA;\n",
              "      box-shadow: 0px 1px 2px rgba(60, 64, 67, 0.3), 0px 1px 3px 1px rgba(60, 64, 67, 0.15);\n",
              "      fill: #174EA6;\n",
              "    }\n",
              "\n",
              "    [theme=dark] .colab-df-convert {\n",
              "      background-color: #3B4455;\n",
              "      fill: #D2E3FC;\n",
              "    }\n",
              "\n",
              "    [theme=dark] .colab-df-convert:hover {\n",
              "      background-color: #434B5C;\n",
              "      box-shadow: 0px 1px 3px 1px rgba(0, 0, 0, 0.15);\n",
              "      filter: drop-shadow(0px 1px 2px rgba(0, 0, 0, 0.3));\n",
              "      fill: #FFFFFF;\n",
              "    }\n",
              "  </style>\n",
              "\n",
              "      <script>\n",
              "        const buttonEl =\n",
              "          document.querySelector('#df-5a9b2653-9eea-4034-bbd5-228b67354fb2 button.colab-df-convert');\n",
              "        buttonEl.style.display =\n",
              "          google.colab.kernel.accessAllowed ? 'block' : 'none';\n",
              "\n",
              "        async function convertToInteractive(key) {\n",
              "          const element = document.querySelector('#df-5a9b2653-9eea-4034-bbd5-228b67354fb2');\n",
              "          const dataTable =\n",
              "            await google.colab.kernel.invokeFunction('convertToInteractive',\n",
              "                                                     [key], {});\n",
              "          if (!dataTable) return;\n",
              "\n",
              "          const docLinkHtml = 'Like what you see? Visit the ' +\n",
              "            '<a target=\"_blank\" href=https://colab.research.google.com/notebooks/data_table.ipynb>data table notebook</a>'\n",
              "            + ' to learn more about interactive tables.';\n",
              "          element.innerHTML = '';\n",
              "          dataTable['output_type'] = 'display_data';\n",
              "          await google.colab.output.renderOutput(dataTable, element);\n",
              "          const docLink = document.createElement('div');\n",
              "          docLink.innerHTML = docLinkHtml;\n",
              "          element.appendChild(docLink);\n",
              "        }\n",
              "      </script>\n",
              "    </div>\n",
              "  </div>\n",
              "  "
            ]
          },
          "metadata": {},
          "execution_count": 132
        }
      ]
    },
    {
      "cell_type": "code",
      "source": [
        "allfeatures.set_index('object_id', inplace = True)"
      ],
      "metadata": {
        "id": "cC6mY3aA3HPO"
      },
      "execution_count": null,
      "outputs": []
    },
    {
      "cell_type": "code",
      "source": [
        "allfeatures.head()"
      ],
      "metadata": {
        "colab": {
          "base_uri": "https://localhost:8080/",
          "height": 331
        },
        "id": "NTLusspZ3uIT",
        "outputId": "535feae6-10e2-4713-a131-4ba04010b9b2"
      },
      "execution_count": null,
      "outputs": [
        {
          "output_type": "execute_result",
          "data": {
            "text/plain": [
              "             0_mean      0_std         0_m2          0_m3       0_max  \\\n",
              "object_id                                                               \n",
              "615       -3.254554  83.944735  6934.865833  72665.792850  125.182808   \n",
              "713       -2.720398   7.113509    49.879128     89.634243   14.509829   \n",
              "730       -0.048080   1.828872     3.298318      2.093148    5.942166   \n",
              "745        1.797523   4.374445    18.869993    162.368381   18.014029   \n",
              "1124       0.660948   2.360084     5.481586     -4.160853    5.330927   \n",
              "\n",
              "                0_min  0_median      1_mean       1_std           1_m2  ...  \\\n",
              "object_id                                                               ...   \n",
              "615       -116.913223 -0.080537 -385.699911  601.787302  355904.026224  ...   \n",
              "713        -14.735178 -0.052914   -1.019804    5.712334      32.048070  ...   \n",
              "730         -3.459960  0.039463    0.141057    1.807229       3.203266  ...   \n",
              "745         -3.874349 -0.169349    5.717394   25.964659     662.124902  ...   \n",
              "1124        -6.804703 -0.033864    4.634637    8.107525      64.598653  ...   \n",
              "\n",
              "                4_min  4_median     5_mean       5_std          5_m2  \\\n",
              "object_id                                                              \n",
              "615       -422.184509 -0.163078 -47.449847  294.779522  85370.493377   \n",
              "713        -12.286801  0.016870  -1.794175    7.094073     49.427194   \n",
              "730         -5.836310 -0.308522   4.539396   13.332758    174.276892   \n",
              "745        -15.494463 -0.358773  10.746138   26.060130    666.782529   \n",
              "1124       -16.543753 -0.303771   6.896742   21.434627    451.382820   \n",
              "\n",
              "                   5_m3       5_max       5_min  5_median       decl  \n",
              "object_id                                                             \n",
              "615        3.041829e+06  378.188141 -422.815094 -0.129163 -61.943836  \n",
              "713        7.377121e+01   14.770886  -14.211164 -0.094281 -27.784405  \n",
              "730        3.751336e+03   47.310059  -19.159811 -0.149763  -6.579593  \n",
              "745        5.309464e+04  141.513290  -10.249387 -0.306851 -45.586655  \n",
              "1124       3.414365e+04  109.157585  -10.860540 -0.229697 -63.823658  \n",
              "\n",
              "[5 rows x 43 columns]"
            ],
            "text/html": [
              "\n",
              "  <div id=\"df-b49d60cd-4139-408f-91ba-f34da45b959e\">\n",
              "    <div class=\"colab-df-container\">\n",
              "      <div>\n",
              "<style scoped>\n",
              "    .dataframe tbody tr th:only-of-type {\n",
              "        vertical-align: middle;\n",
              "    }\n",
              "\n",
              "    .dataframe tbody tr th {\n",
              "        vertical-align: top;\n",
              "    }\n",
              "\n",
              "    .dataframe thead th {\n",
              "        text-align: right;\n",
              "    }\n",
              "</style>\n",
              "<table border=\"1\" class=\"dataframe\">\n",
              "  <thead>\n",
              "    <tr style=\"text-align: right;\">\n",
              "      <th></th>\n",
              "      <th>0_mean</th>\n",
              "      <th>0_std</th>\n",
              "      <th>0_m2</th>\n",
              "      <th>0_m3</th>\n",
              "      <th>0_max</th>\n",
              "      <th>0_min</th>\n",
              "      <th>0_median</th>\n",
              "      <th>1_mean</th>\n",
              "      <th>1_std</th>\n",
              "      <th>1_m2</th>\n",
              "      <th>...</th>\n",
              "      <th>4_min</th>\n",
              "      <th>4_median</th>\n",
              "      <th>5_mean</th>\n",
              "      <th>5_std</th>\n",
              "      <th>5_m2</th>\n",
              "      <th>5_m3</th>\n",
              "      <th>5_max</th>\n",
              "      <th>5_min</th>\n",
              "      <th>5_median</th>\n",
              "      <th>decl</th>\n",
              "    </tr>\n",
              "    <tr>\n",
              "      <th>object_id</th>\n",
              "      <th></th>\n",
              "      <th></th>\n",
              "      <th></th>\n",
              "      <th></th>\n",
              "      <th></th>\n",
              "      <th></th>\n",
              "      <th></th>\n",
              "      <th></th>\n",
              "      <th></th>\n",
              "      <th></th>\n",
              "      <th></th>\n",
              "      <th></th>\n",
              "      <th></th>\n",
              "      <th></th>\n",
              "      <th></th>\n",
              "      <th></th>\n",
              "      <th></th>\n",
              "      <th></th>\n",
              "      <th></th>\n",
              "      <th></th>\n",
              "      <th></th>\n",
              "    </tr>\n",
              "  </thead>\n",
              "  <tbody>\n",
              "    <tr>\n",
              "      <th>615</th>\n",
              "      <td>-3.254554</td>\n",
              "      <td>83.944735</td>\n",
              "      <td>6934.865833</td>\n",
              "      <td>72665.792850</td>\n",
              "      <td>125.182808</td>\n",
              "      <td>-116.913223</td>\n",
              "      <td>-0.080537</td>\n",
              "      <td>-385.699911</td>\n",
              "      <td>601.787302</td>\n",
              "      <td>355904.026224</td>\n",
              "      <td>...</td>\n",
              "      <td>-422.184509</td>\n",
              "      <td>-0.163078</td>\n",
              "      <td>-47.449847</td>\n",
              "      <td>294.779522</td>\n",
              "      <td>85370.493377</td>\n",
              "      <td>3.041829e+06</td>\n",
              "      <td>378.188141</td>\n",
              "      <td>-422.815094</td>\n",
              "      <td>-0.129163</td>\n",
              "      <td>-61.943836</td>\n",
              "    </tr>\n",
              "    <tr>\n",
              "      <th>713</th>\n",
              "      <td>-2.720398</td>\n",
              "      <td>7.113509</td>\n",
              "      <td>49.879128</td>\n",
              "      <td>89.634243</td>\n",
              "      <td>14.509829</td>\n",
              "      <td>-14.735178</td>\n",
              "      <td>-0.052914</td>\n",
              "      <td>-1.019804</td>\n",
              "      <td>5.712334</td>\n",
              "      <td>32.048070</td>\n",
              "      <td>...</td>\n",
              "      <td>-12.286801</td>\n",
              "      <td>0.016870</td>\n",
              "      <td>-1.794175</td>\n",
              "      <td>7.094073</td>\n",
              "      <td>49.427194</td>\n",
              "      <td>7.377121e+01</td>\n",
              "      <td>14.770886</td>\n",
              "      <td>-14.211164</td>\n",
              "      <td>-0.094281</td>\n",
              "      <td>-27.784405</td>\n",
              "    </tr>\n",
              "    <tr>\n",
              "      <th>730</th>\n",
              "      <td>-0.048080</td>\n",
              "      <td>1.828872</td>\n",
              "      <td>3.298318</td>\n",
              "      <td>2.093148</td>\n",
              "      <td>5.942166</td>\n",
              "      <td>-3.459960</td>\n",
              "      <td>0.039463</td>\n",
              "      <td>0.141057</td>\n",
              "      <td>1.807229</td>\n",
              "      <td>3.203266</td>\n",
              "      <td>...</td>\n",
              "      <td>-5.836310</td>\n",
              "      <td>-0.308522</td>\n",
              "      <td>4.539396</td>\n",
              "      <td>13.332758</td>\n",
              "      <td>174.276892</td>\n",
              "      <td>3.751336e+03</td>\n",
              "      <td>47.310059</td>\n",
              "      <td>-19.159811</td>\n",
              "      <td>-0.149763</td>\n",
              "      <td>-6.579593</td>\n",
              "    </tr>\n",
              "    <tr>\n",
              "      <th>745</th>\n",
              "      <td>1.797523</td>\n",
              "      <td>4.374445</td>\n",
              "      <td>18.869993</td>\n",
              "      <td>162.368381</td>\n",
              "      <td>18.014029</td>\n",
              "      <td>-3.874349</td>\n",
              "      <td>-0.169349</td>\n",
              "      <td>5.717394</td>\n",
              "      <td>25.964659</td>\n",
              "      <td>662.124902</td>\n",
              "      <td>...</td>\n",
              "      <td>-15.494463</td>\n",
              "      <td>-0.358773</td>\n",
              "      <td>10.746138</td>\n",
              "      <td>26.060130</td>\n",
              "      <td>666.782529</td>\n",
              "      <td>5.309464e+04</td>\n",
              "      <td>141.513290</td>\n",
              "      <td>-10.249387</td>\n",
              "      <td>-0.306851</td>\n",
              "      <td>-45.586655</td>\n",
              "    </tr>\n",
              "    <tr>\n",
              "      <th>1124</th>\n",
              "      <td>0.660948</td>\n",
              "      <td>2.360084</td>\n",
              "      <td>5.481586</td>\n",
              "      <td>-4.160853</td>\n",
              "      <td>5.330927</td>\n",
              "      <td>-6.804703</td>\n",
              "      <td>-0.033864</td>\n",
              "      <td>4.634637</td>\n",
              "      <td>8.107525</td>\n",
              "      <td>64.598653</td>\n",
              "      <td>...</td>\n",
              "      <td>-16.543753</td>\n",
              "      <td>-0.303771</td>\n",
              "      <td>6.896742</td>\n",
              "      <td>21.434627</td>\n",
              "      <td>451.382820</td>\n",
              "      <td>3.414365e+04</td>\n",
              "      <td>109.157585</td>\n",
              "      <td>-10.860540</td>\n",
              "      <td>-0.229697</td>\n",
              "      <td>-63.823658</td>\n",
              "    </tr>\n",
              "  </tbody>\n",
              "</table>\n",
              "<p>5 rows × 43 columns</p>\n",
              "</div>\n",
              "      <button class=\"colab-df-convert\" onclick=\"convertToInteractive('df-b49d60cd-4139-408f-91ba-f34da45b959e')\"\n",
              "              title=\"Convert this dataframe to an interactive table.\"\n",
              "              style=\"display:none;\">\n",
              "        \n",
              "  <svg xmlns=\"http://www.w3.org/2000/svg\" height=\"24px\"viewBox=\"0 0 24 24\"\n",
              "       width=\"24px\">\n",
              "    <path d=\"M0 0h24v24H0V0z\" fill=\"none\"/>\n",
              "    <path d=\"M18.56 5.44l.94 2.06.94-2.06 2.06-.94-2.06-.94-.94-2.06-.94 2.06-2.06.94zm-11 1L8.5 8.5l.94-2.06 2.06-.94-2.06-.94L8.5 2.5l-.94 2.06-2.06.94zm10 10l.94 2.06.94-2.06 2.06-.94-2.06-.94-.94-2.06-.94 2.06-2.06.94z\"/><path d=\"M17.41 7.96l-1.37-1.37c-.4-.4-.92-.59-1.43-.59-.52 0-1.04.2-1.43.59L10.3 9.45l-7.72 7.72c-.78.78-.78 2.05 0 2.83L4 21.41c.39.39.9.59 1.41.59.51 0 1.02-.2 1.41-.59l7.78-7.78 2.81-2.81c.8-.78.8-2.07 0-2.86zM5.41 20L4 18.59l7.72-7.72 1.47 1.35L5.41 20z\"/>\n",
              "  </svg>\n",
              "      </button>\n",
              "      \n",
              "  <style>\n",
              "    .colab-df-container {\n",
              "      display:flex;\n",
              "      flex-wrap:wrap;\n",
              "      gap: 12px;\n",
              "    }\n",
              "\n",
              "    .colab-df-convert {\n",
              "      background-color: #E8F0FE;\n",
              "      border: none;\n",
              "      border-radius: 50%;\n",
              "      cursor: pointer;\n",
              "      display: none;\n",
              "      fill: #1967D2;\n",
              "      height: 32px;\n",
              "      padding: 0 0 0 0;\n",
              "      width: 32px;\n",
              "    }\n",
              "\n",
              "    .colab-df-convert:hover {\n",
              "      background-color: #E2EBFA;\n",
              "      box-shadow: 0px 1px 2px rgba(60, 64, 67, 0.3), 0px 1px 3px 1px rgba(60, 64, 67, 0.15);\n",
              "      fill: #174EA6;\n",
              "    }\n",
              "\n",
              "    [theme=dark] .colab-df-convert {\n",
              "      background-color: #3B4455;\n",
              "      fill: #D2E3FC;\n",
              "    }\n",
              "\n",
              "    [theme=dark] .colab-df-convert:hover {\n",
              "      background-color: #434B5C;\n",
              "      box-shadow: 0px 1px 3px 1px rgba(0, 0, 0, 0.15);\n",
              "      filter: drop-shadow(0px 1px 2px rgba(0, 0, 0, 0.3));\n",
              "      fill: #FFFFFF;\n",
              "    }\n",
              "  </style>\n",
              "\n",
              "      <script>\n",
              "        const buttonEl =\n",
              "          document.querySelector('#df-b49d60cd-4139-408f-91ba-f34da45b959e button.colab-df-convert');\n",
              "        buttonEl.style.display =\n",
              "          google.colab.kernel.accessAllowed ? 'block' : 'none';\n",
              "\n",
              "        async function convertToInteractive(key) {\n",
              "          const element = document.querySelector('#df-b49d60cd-4139-408f-91ba-f34da45b959e');\n",
              "          const dataTable =\n",
              "            await google.colab.kernel.invokeFunction('convertToInteractive',\n",
              "                                                     [key], {});\n",
              "          if (!dataTable) return;\n",
              "\n",
              "          const docLinkHtml = 'Like what you see? Visit the ' +\n",
              "            '<a target=\"_blank\" href=https://colab.research.google.com/notebooks/data_table.ipynb>data table notebook</a>'\n",
              "            + ' to learn more about interactive tables.';\n",
              "          element.innerHTML = '';\n",
              "          dataTable['output_type'] = 'display_data';\n",
              "          await google.colab.output.renderOutput(dataTable, element);\n",
              "          const docLink = document.createElement('div');\n",
              "          docLink.innerHTML = docLinkHtml;\n",
              "          element.appendChild(docLink);\n",
              "        }\n",
              "      </script>\n",
              "    </div>\n",
              "  </div>\n",
              "  "
            ]
          },
          "metadata": {},
          "execution_count": 134
        }
      ]
    },
    {
      "cell_type": "code",
      "source": [
        "allfeatures.shape, bottleneck_predictions.shape"
      ],
      "metadata": {
        "colab": {
          "base_uri": "https://localhost:8080/"
        },
        "id": "wKRg8Ewx3_m0",
        "outputId": "3f27d4ec-b918-42c1-c807-5f060957e23b"
      },
      "execution_count": null,
      "outputs": [
        {
          "output_type": "execute_result",
          "data": {
            "text/plain": [
              "((7848, 43), (7848, 192))"
            ]
          },
          "metadata": {},
          "execution_count": 136
        }
      ]
    },
    {
      "cell_type": "code",
      "source": [
        "# Merge the output from the bottleneck layer with the allfeatures dataset from HW7\n",
        "# In that notebook I included a function which saved the dataset to go google drive \n",
        "# together with the target variables for building the clasiffier later on"
      ],
      "metadata": {
        "id": "BL9wGyxSEmzA"
      },
      "execution_count": null,
      "outputs": []
    },
    {
      "cell_type": "code",
      "source": [
        "final_features = np.concatenate([allfeatures.values, bottleneck_predictions], axis = 1)"
      ],
      "metadata": {
        "id": "m86ir2lO31Uk"
      },
      "execution_count": null,
      "outputs": []
    },
    {
      "cell_type": "code",
      "source": [
        "label_dist = target.groupby(['target']).agg({'target':'count'})"
      ],
      "metadata": {
        "id": "dWjxA3uQCoMZ"
      },
      "execution_count": null,
      "outputs": []
    },
    {
      "cell_type": "code",
      "source": [
        "label_dist.target.values"
      ],
      "metadata": {
        "colab": {
          "base_uri": "https://localhost:8080/"
        },
        "id": "VArOfMr3CxDI",
        "outputId": "7c21bd39-5b8d-4e6e-b230-4383315a303d"
      },
      "execution_count": null,
      "outputs": [
        {
          "output_type": "execute_result",
          "data": {
            "text/plain": [
              "array([ 151,  495,  924, 1193,  183,   30,  484,  102,  981,  208,  370,\n",
              "       2313,  239,  175])"
            ]
          },
          "metadata": {},
          "execution_count": 172
        }
      ]
    },
    {
      "cell_type": "code",
      "source": [
        "pl.figure(figsize=(10,5))\n",
        "pl.bar(label_dist.index.astype(str), label_dist.target.values);\n",
        "pl.title(\"Distribution of the target variable\");\n",
        "pl.xlabel(\"Target\")\n",
        "pl.ylabel(\"Frequency\")\n",
        "pl.legend();"
      ],
      "metadata": {
        "colab": {
          "base_uri": "https://localhost:8080/",
          "height": 367
        },
        "id": "lPtTNFJP-lNI",
        "outputId": "4095a668-bc01-469c-d7ee-7a8f8e9ed3d4"
      },
      "execution_count": null,
      "outputs": [
        {
          "output_type": "stream",
          "name": "stderr",
          "text": [
            "No handles with labels found to put in legend.\n"
          ]
        },
        {
          "output_type": "display_data",
          "data": {
            "text/plain": [
              "<Figure size 720x360 with 1 Axes>"
            ],
            "image/png": "[encoded data removed]"
          },
          "metadata": {
            "needs_background": "light"
          }
        }
      ]
    },
    {
      "cell_type": "markdown",
      "source": [
        "**Figure 5.** *'Target'* variable Histogram. We can see that the data is imbalanced, therefore, gradient booster might be a better choice than random forest. We will try first the random forest in the interest of time, and later explore the possibility of a gradient booster algorithm."
      ],
      "metadata": {
        "id": "WzqPB4jXE_1g"
      }
    },
    {
      "cell_type": "markdown",
      "source": [
        "<font color=\"red\"> FBB good point</font>"
      ],
      "metadata": {
        "id": "JXjlS6hcGSnJ"
      }
    },
    {
      "cell_type": "code",
      "source": [
        "rf = RandomForestClassifier(random_state = 0)\n",
        "print('Parameters currently in use:\\n')\n",
        "for i in rf.get_params().items():\n",
        "  print(i)"
      ],
      "metadata": {
        "colab": {
          "base_uri": "https://localhost:8080/"
        },
        "id": "cRXiKlV34DdF",
        "outputId": "4a0d4b43-8b37-4448-c162-979059c757b9"
      },
      "execution_count": null,
      "outputs": [
        {
          "output_type": "stream",
          "name": "stdout",
          "text": [
            "Parameters currently in use:\n",
            "\n",
            "('bootstrap', True)\n",
            "('ccp_alpha', 0.0)\n",
            "('class_weight', None)\n",
            "('criterion', 'gini')\n",
            "('max_depth', None)\n",
            "('max_features', 'auto')\n",
            "('max_leaf_nodes', None)\n",
            "('max_samples', None)\n",
            "('min_impurity_decrease', 0.0)\n",
            "('min_samples_leaf', 1)\n",
            "('min_samples_split', 2)\n",
            "('min_weight_fraction_leaf', 0.0)\n",
            "('n_estimators', 100)\n",
            "('n_jobs', None)\n",
            "('oob_score', False)\n",
            "('random_state', 0)\n",
            "('verbose', 0)\n",
            "('warm_start', False)\n"
          ]
        }
      ]
    },
    {
      "cell_type": "code",
      "source": [
        "X_train, X_test, y_train, y_test = train_test_split(final_features, target.target.values, test_size=0.2)"
      ],
      "metadata": {
        "id": "BhLlqeMK4j35"
      },
      "execution_count": null,
      "outputs": []
    },
    {
      "cell_type": "code",
      "source": [
        "rf = RandomForestClassifier(max_depth=4, random_state=123)"
      ],
      "metadata": {
        "id": "hFeuvItY4abc"
      },
      "execution_count": null,
      "outputs": []
    },
    {
      "cell_type": "code",
      "source": [
        "rf.fit(X_train, y_train)"
      ],
      "metadata": {
        "colab": {
          "base_uri": "https://localhost:8080/"
        },
        "id": "LqT18uQ14uT3",
        "outputId": "b51da0ea-477d-406c-d919-cfac67580b62"
      },
      "execution_count": null,
      "outputs": [
        {
          "output_type": "execute_result",
          "data": {
            "text/plain": [
              "RandomForestClassifier(max_depth=4, random_state=123)"
            ]
          },
          "metadata": {},
          "execution_count": 151
        }
      ]
    },
    {
      "cell_type": "code",
      "source": [
        "rf.score(X_train, y_train), rf.score(X_test, y_test)"
      ],
      "metadata": {
        "colab": {
          "base_uri": "https://localhost:8080/"
        },
        "id": "boHc31gh5YQf",
        "outputId": "e2ea41ec-1272-40c0-e0e0-d7ebe4d6cdbc"
      },
      "execution_count": null,
      "outputs": [
        {
          "output_type": "execute_result",
          "data": {
            "text/plain": [
              "(0.4745141764893278, 0.47388535031847134)"
            ]
          },
          "metadata": {},
          "execution_count": 154
        }
      ]
    },
    {
      "cell_type": "markdown",
      "source": [
        "<font color=\"red\"> FBB I need a bit more comments here</font>"
      ],
      "metadata": {
        "id": "yfc0B6WwGN8s"
      }
    },
    {
      "cell_type": "code",
      "source": [
        "# I used the confusion matrix plot showed in \n",
        "# https://stackoverflow.com/questions/65618137/confusion-matrix-for-multiple-classes-in-python"
      ],
      "metadata": {
        "id": "oooq4gpo5ilQ"
      },
      "execution_count": null,
      "outputs": []
    },
    {
      "cell_type": "code",
      "source": [
        "# Plot confusion matrix in a beautiful manner\n",
        "cm = confusion_matrix(y_test, rf.predict(X_test), labels = target.target.unique(), normalize='true')\n",
        "fig = pl.figure(figsize=(12, 10))\n",
        "ax= pl.subplot()\n",
        "sns.heatmap(cm, annot=False, ax = ax, fmt = 'g'); #annot=True to annotate cells\n",
        "# labels, title and ticks\n",
        "ax.set_xlabel('Predicted', fontsize=20)\n",
        "ax.xaxis.set_label_position('bottom')\n",
        "pl.xticks(rotation=90)\n",
        "ax.xaxis.set_ticklabels(target.target.unique(), fontsize = 10)\n",
        "ax.xaxis.tick_bottom()\n",
        "\n",
        "ax.set_ylabel('True', fontsize=20)\n",
        "ax.yaxis.set_ticklabels(target.target.unique(), fontsize = 10)\n",
        "pl.yticks(rotation=0)\n",
        "\n",
        "pl.title('Normalized Confusion Matrix Harder Task', fontsize=20)\n",
        "\n",
        "pl.show()"
      ],
      "metadata": {
        "colab": {
          "base_uri": "https://localhost:8080/",
          "height": 638
        },
        "id": "b_CKOq3DBuRt",
        "outputId": "101eab51-02b1-4e7d-fb22-f3d9dd95955d"
      },
      "execution_count": null,
      "outputs": [
        {
          "output_type": "display_data",
          "data": {
            "text/plain": [
              "<Figure size 864x720 with 2 Axes>"
            ],
            "image/png": "[encoded data removed]"
          },
          "metadata": {
            "needs_background": "light"
          }
        }
      ]
    },
    {
      "cell_type": "markdown",
      "source": [
        "**Figure 6.** The normalized confusion matrix allows us to visualize the class imbalance still carried by the model and the poor performance of the random forest used. The features with greater frequency are predicted often by our model. We will need to look deeper for correlations and hyperparameters that we can change to deal with the lack of accuracy and imporve the hyperparameters choice.\n",
        "\n",
        "Furthermore, it will be better to consider the gradient booster algorithm which handles more appropiately the class imbalance problem."
      ],
      "metadata": {
        "id": "ImSmw1VfF75B"
      }
    },
    {
      "cell_type": "markdown",
      "source": [
        "<font color=\"red\"> FBB ok</font>"
      ],
      "metadata": {
        "id": "7nActhT7GIte"
      }
    },
    {
      "cell_type": "code",
      "source": [
        "gbt = GradientBoostingClassifier(random_state = 123, learning_rate=0.01, n_estimators=1000)"
      ],
      "metadata": {
        "id": "rSyBNwuyDgwS"
      },
      "execution_count": null,
      "outputs": []
    },
    {
      "cell_type": "code",
      "source": [
        "gbt.fit(X_train, y_train)"
      ],
      "metadata": {
        "id": "xQqK20BWEeGQ"
      },
      "execution_count": null,
      "outputs": []
    },
    {
      "cell_type": "code",
      "source": [
        "gbt.score(X_train, y_train), gbt.score(X_test, y_test)"
      ],
      "metadata": {
        "id": "qUr8FHQsEh61"
      },
      "execution_count": null,
      "outputs": []
    }
  ]
}